{
  "nbformat": 4,
  "nbformat_minor": 0,
  "metadata": {
    "colab": {
      "provenance": []
    },
    "kernelspec": {
      "name": "python3",
      "display_name": "Python 3"
    },
    "language_info": {
      "name": "python"
    }
  },
  "cells": [
    {
      "cell_type": "code",
      "execution_count": 1,
      "metadata": {
        "colab": {
          "base_uri": "https://localhost:8080/"
        },
        "id": "GPO9mvq8zhwB",
        "outputId": "1e00551c-4d6a-4a4c-d27f-cc990d97f427"
      },
      "outputs": [
        {
          "output_type": "stream",
          "name": "stdout",
          "text": [
            "Edge : Weight\n",
            "A -> B: 10\n",
            "B -> D: 5\n",
            "D -> E: 8\n",
            "E -> C: 6\n"
          ]
        }
      ],
      "source": [
        "# Prims Algorithm  in Python\n",
        "import sys\n",
        "class Graph:\n",
        "    def __init__(self, vertexNum, edges, nodes):\n",
        "        self.edges = edges\n",
        "        self.nodes = nodes\n",
        "        self.vertexNum = vertexNum\n",
        "        self.MST = []\n",
        "\n",
        "    def printSolution(self):\n",
        "        print(\"Edge : Weight\")\n",
        "        for s, d, w in self.MST:\n",
        "            print(\"%s -> %s: %s\" % (s, d, w))\n",
        "\n",
        "    def primsAlgo(self):\n",
        "        visited = [0]*self.vertexNum\n",
        "        edgeNum=0\n",
        "        visited[0]=True\n",
        "        while edgeNum<self.vertexNum-1:\n",
        "            min = sys.maxsize\n",
        "            for i in range(self.vertexNum):\n",
        "                if visited[i]:\n",
        "                    for j in range(self.vertexNum):\n",
        "                        if ((not visited[j]) and self.edges[i][j]):\n",
        "                            if min > self.edges[i][j]:\n",
        "                                min = self.edges[i][j]\n",
        "                                s = i\n",
        "                                d = j\n",
        "            self.MST.append([self.nodes[s], self.nodes[d], self.edges[s][d]])\n",
        "            visited[d] = True\n",
        "            edgeNum += 1\n",
        "        self.printSolution()\n",
        "\n",
        "\n",
        "\n",
        "edges = [[0, 10, 20, 0, 0],\n",
        "\t\t[10, 0, 30, 5, 0],\n",
        "\t\t[20, 30, 0, 15, 6],\n",
        "\t\t[0, 5, 15, 0, 8],\n",
        "\t\t[0, 0, 6, 8, 0]]\n",
        "nodes = [\"A\",\"B\",\"C\",\"D\",\"E\"]\n",
        "g = Graph(5, edges, nodes)\n",
        "g.primsAlgo()"
      ]
    }
  ]
}