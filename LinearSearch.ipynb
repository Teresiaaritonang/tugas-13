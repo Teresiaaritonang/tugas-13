{
  "nbformat": 4,
  "nbformat_minor": 0,
  "metadata": {
    "colab": {
      "provenance": []
    },
    "kernelspec": {
      "name": "python3",
      "display_name": "Python 3"
    },
    "language_info": {
      "name": "python"
    }
  },
  "cells": [
    {
      "cell_type": "code",
      "execution_count": 1,
      "metadata": {
        "colab": {
          "base_uri": "https://localhost:8080/"
        },
        "id": "xzWTSKzgx5xz",
        "outputId": "fab3a4c0-38f4-4050-82e9-e8596a43bfd5"
      },
      "outputs": [
        {
          "output_type": "stream",
          "name": "stdout",
          "text": [
            "4\n"
          ]
        }
      ],
      "source": [
        "# Searching algorithms - Linear Search\n",
        "\n",
        "def linearSearch(array, value):\n",
        "    for i in range(len(array)):\n",
        "        if array[i] == value:\n",
        "            return i\n",
        "    return -1\n",
        "\n",
        "\n",
        "\n",
        "print(linearSearch([20,40,30,50,90], 90))"
      ]
    }
  ]
}