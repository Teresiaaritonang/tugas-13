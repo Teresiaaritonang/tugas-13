{
  "nbformat": 4,
  "nbformat_minor": 0,
  "metadata": {
    "colab": {
      "provenance": []
    },
    "kernelspec": {
      "name": "python3",
      "display_name": "Python 3"
    },
    "language_info": {
      "name": "python"
    }
  },
  "cells": [
    {
      "cell_type": "code",
      "execution_count": 2,
      "metadata": {
        "id": "0Fu-Q-eZ2x3B"
      },
      "outputs": [],
      "source": [
        "# Disjoint Set in Python\n",
        "\n",
        "class DisjointSet:\n",
        "    def __init__(self, vertices):\n",
        "        self.vertices = vertices\n",
        "        self.parent = {}\n",
        "        for v in vertices:\n",
        "            self.parent[v] = v\n",
        "        self.rank = dict.fromkeys(vertices, 0)\n",
        "\n",
        "    def find(self, item):\n",
        "        if self.parent[item] == item:\n",
        "            return item\n",
        "        else:\n",
        "            return self.find(self.parent[item])\n",
        "\n",
        "    def union(self, x, y):\n",
        "        xroot = self.find(x)\n",
        "        yroot = self.find(y)\n",
        "        if self.rank[xroot] < self.rank[yroot]:\n",
        "            self.parent[xroot] = yroot\n",
        "        elif self.rank[xroot] > self.rank[yroot]:\n",
        "            self.parent[yroot] = xroot\n",
        "        else:\n",
        "            self.parent[yroot] = xroot\n",
        "            self.rank[xroot] += 1\n",
        "\n",
        "# vertices = [\"A\", \"B\", \"C\", \"D\", \"E\"]\n",
        "\n",
        "# ds = DisjointSet(vertices)\n",
        "# ds.union(\"A\", \"B\")\n",
        "# ds.union(\"A\", \"C\")\n",
        "# print(ds.find(\"A\"))"
      ]
    }
  ]
}